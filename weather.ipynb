{
  "nbformat": 4,
  "nbformat_minor": 0,
  "metadata": {
    "colab": {
      "name": "weather.ipynb",
      "provenance": [],
      "collapsed_sections": [],
      "toc_visible": true
    },
    "kernelspec": {
      "name": "python3",
      "display_name": "Python 3"
    },
    "language_info": {
      "name": "python"
    }
  },
  "cells": [
    {
      "cell_type": "code",
      "execution_count": 2,
      "metadata": {
        "id": "cwYs7P2zG5Ek"
      },
      "outputs": [],
      "source": [
        "import requests"
      ]
    },
    {
      "cell_type": "code",
      "source": [
        "api_key='6d922f62a11515a923662f3b8336bfb5'"
      ],
      "metadata": {
        "id": "2SgPPD1VHk47"
      },
      "execution_count": 3,
      "outputs": []
    },
    {
      "cell_type": "code",
      "source": [
        "city_name=str(input(\"Enter city name: \")) \n",
        "\n",
        "url = url = f'https://api.openweathermap.org/data/2.5/weather?q={city_name}&appid={api_key}'\n",
        "print(url)\n",
        "\n",
        "req = requests.get(url)\n",
        "data = req.json()\n",
        "\n",
        "name = data['name']\n",
        "lon = data['coord']['lon']\n",
        "lat = data['coord']['lat']\n",
        "\n",
        "print(name, lon, lat)"
      ],
      "metadata": {
        "id": "_-qOxOeVIxjg",
        "colab": {
          "base_uri": "https://localhost:8080/"
        },
        "outputId": "1a3fd58e-ed1d-4a9e-baad-4434ed145f3f"
      },
      "execution_count": 4,
      "outputs": [
        {
          "output_type": "stream",
          "name": "stdout",
          "text": [
            "Enter city name: ife\n",
            "https://api.openweathermap.org/data/2.5/weather?q=ife&appid=6d922f62a11515a923662f3b8336bfb5\n",
            "Ile-Ife 4.5667 7.4667\n"
          ]
        }
      ]
    },
    {
      "cell_type": "markdown",
      "source": [
        "# New Section"
      ],
      "metadata": {
        "id": "C005fGLSRSGu"
      }
    },
    {
      "cell_type": "code",
      "source": [
        "exclude = \"minute\"\n",
        "url2 = f'https://api.openweathermap.org/data/2.5/onecall?lat={lat}&lon={lon}&exclude={exclude}&appid={api_key}'\n",
        "print(url2)\n",
        "#Let's now parse the JSON\n",
        "req2 = requests.get(url2)\n",
        "data2 = req2.json()\n",
        "print(data2)\n",
        "#Let's now get the temp for the day, the night and the weather conditions\n",
        "hourly=[]\n",
        "days = []\n",
        "nights = []\n",
        "descr = []\n",
        "\n",
        "\n",
        "\n",
        "#We need to access 'daily'\n",
        "for i in data2['daily']:\n",
        "        \n",
        "        #We notice that the temperature is in Kelvin, so we need to do -273.15 for every datapoint\n",
        "        \n",
        "        #Let's start by days\n",
        "        #Let's round the decimal numbers to 2\n",
        "\n",
        "\n",
        "        days.append(round(i['temp']['day'] - 273.15,2))\n",
        "        \n",
        "        #Nights\n",
        "        nights.append(round(i['temp']['night'] - 273.15,2))\n",
        "        \n",
        "        #Let's now get the weather condition and the description\n",
        "        #'weather' [0] 'main' + 'weather' [0] 'description'\n",
        "        descr.append(i['weather'][0]['main'] + \": \" +i['weather'][0]['description'])\n",
        "print(hourly)\n",
        "print(days)\n",
        "print(nights)\n",
        "print(descr)"
      ],
      "metadata": {
        "colab": {
          "base_uri": "https://localhost:8080/"
        },
        "id": "tXSbm9hBRQuw",
        "outputId": "e94230fc-da8b-4f0b-f23f-236cbd1d4b7b"
      },
      "execution_count": 5,
      "outputs": [
        {
          "output_type": "stream",
          "name": "stdout",
          "text": [
            "https://api.openweathermap.org/data/2.5/onecall?lat=7.4667&lon=4.5667&exclude=minute&appid=6d922f62a11515a923662f3b8336bfb5\n",
            "{'lat': 7.4667, 'lon': 4.5667, 'timezone': 'Africa/Lagos', 'timezone_offset': 3600, 'current': {'dt': 1649797206, 'sunrise': 1649741662, 'sunset': 1649785818, 'temp': 296.26, 'feels_like': 297.08, 'pressure': 1010, 'humidity': 94, 'dew_point': 295.24, 'uvi': 0, 'clouds': 98, 'visibility': 10000, 'wind_speed': 1.26, 'wind_deg': 17, 'wind_gust': 2.5, 'weather': [{'id': 500, 'main': 'Rain', 'description': 'light rain', 'icon': '10n'}], 'rain': {'1h': 0.92}}, 'hourly': [{'dt': 1649797200, 'temp': 296.26, 'feels_like': 297.08, 'pressure': 1010, 'humidity': 94, 'dew_point': 295.24, 'uvi': 0, 'clouds': 98, 'visibility': 10000, 'wind_speed': 1.26, 'wind_deg': 17, 'wind_gust': 2.5, 'weather': [{'id': 500, 'main': 'Rain', 'description': 'light rain', 'icon': '10n'}], 'pop': 0.83, 'rain': {'1h': 0.92}}, {'dt': 1649800800, 'temp': 296.27, 'feels_like': 297.07, 'pressure': 1010, 'humidity': 93, 'dew_point': 295.08, 'uvi': 0, 'clouds': 98, 'visibility': 10000, 'wind_speed': 0.82, 'wind_deg': 321, 'wind_gust': 0.85, 'weather': [{'id': 804, 'main': 'Clouds', 'description': 'overcast clouds', 'icon': '04n'}], 'pop': 0.89}, {'dt': 1649804400, 'temp': 296.3, 'feels_like': 297.1, 'pressure': 1010, 'humidity': 93, 'dew_point': 295.11, 'uvi': 0, 'clouds': 98, 'visibility': 10000, 'wind_speed': 0.49, 'wind_deg': 32, 'wind_gust': 0.58, 'weather': [{'id': 804, 'main': 'Clouds', 'description': 'overcast clouds', 'icon': '04n'}], 'pop': 0.85}, {'dt': 1649808000, 'temp': 296.15, 'feels_like': 296.93, 'pressure': 1010, 'humidity': 93, 'dew_point': 294.96, 'uvi': 0, 'clouds': 99, 'visibility': 10000, 'wind_speed': 0.83, 'wind_deg': 95, 'wind_gust': 0.91, 'weather': [{'id': 804, 'main': 'Clouds', 'description': 'overcast clouds', 'icon': '04n'}], 'pop': 0.85}, {'dt': 1649811600, 'temp': 296.06, 'feels_like': 296.81, 'pressure': 1009, 'humidity': 92, 'dew_point': 294.69, 'uvi': 0, 'clouds': 100, 'visibility': 10000, 'wind_speed': 0.57, 'wind_deg': 136, 'wind_gust': 0.68, 'weather': [{'id': 804, 'main': 'Clouds', 'description': 'overcast clouds', 'icon': '04n'}], 'pop': 0.06}, {'dt': 1649815200, 'temp': 295.99, 'feels_like': 296.73, 'pressure': 1008, 'humidity': 92, 'dew_point': 294.83, 'uvi': 0, 'clouds': 100, 'visibility': 10000, 'wind_speed': 1.48, 'wind_deg': 182, 'wind_gust': 2.21, 'weather': [{'id': 804, 'main': 'Clouds', 'description': 'overcast clouds', 'icon': '04n'}], 'pop': 0.02}, {'dt': 1649818800, 'temp': 295.85, 'feels_like': 296.63, 'pressure': 1006, 'humidity': 94, 'dew_point': 294.91, 'uvi': 0, 'clouds': 100, 'visibility': 10000, 'wind_speed': 1.87, 'wind_deg': 186, 'wind_gust': 6.77, 'weather': [{'id': 804, 'main': 'Clouds', 'description': 'overcast clouds', 'icon': '04n'}], 'pop': 0.02}, {'dt': 1649822400, 'temp': 296.01, 'feels_like': 296.83, 'pressure': 1007, 'humidity': 95, 'dew_point': 295.29, 'uvi': 0, 'clouds': 100, 'visibility': 10000, 'wind_speed': 1.37, 'wind_deg': 195, 'wind_gust': 7.05, 'weather': [{'id': 804, 'main': 'Clouds', 'description': 'overcast clouds', 'icon': '04n'}], 'pop': 0.02}, {'dt': 1649826000, 'temp': 296, 'feels_like': 296.85, 'pressure': 1007, 'humidity': 96, 'dew_point': 295.48, 'uvi': 0, 'clouds': 100, 'visibility': 10000, 'wind_speed': 0.92, 'wind_deg': 157, 'wind_gust': 3.96, 'weather': [{'id': 804, 'main': 'Clouds', 'description': 'overcast clouds', 'icon': '04n'}], 'pop': 0.01}, {'dt': 1649829600, 'temp': 296.11, 'feels_like': 296.97, 'pressure': 1008, 'humidity': 96, 'dew_point': 295.56, 'uvi': 0, 'clouds': 100, 'visibility': 10000, 'wind_speed': 1.36, 'wind_deg': 141, 'wind_gust': 7.13, 'weather': [{'id': 804, 'main': 'Clouds', 'description': 'overcast clouds', 'icon': '04d'}], 'pop': 0.01}, {'dt': 1649833200, 'temp': 297.24, 'feels_like': 298.08, 'pressure': 1009, 'humidity': 91, 'dew_point': 295.75, 'uvi': 0, 'clouds': 100, 'visibility': 10000, 'wind_speed': 0.68, 'wind_deg': 162, 'wind_gust': 3.23, 'weather': [{'id': 804, 'main': 'Clouds', 'description': 'overcast clouds', 'icon': '04d'}], 'pop': 0}, {'dt': 1649836800, 'temp': 298.91, 'feels_like': 299.66, 'pressure': 1010, 'humidity': 81, 'dew_point': 295.57, 'uvi': 0, 'clouds': 100, 'visibility': 10000, 'wind_speed': 1.43, 'wind_deg': 192, 'wind_gust': 3.68, 'weather': [{'id': 804, 'main': 'Clouds', 'description': 'overcast clouds', 'icon': '04d'}], 'pop': 0}, {'dt': 1649840400, 'temp': 301.25, 'feels_like': 303.61, 'pressure': 1010, 'humidity': 67, 'dew_point': 294.63, 'uvi': 0, 'clouds': 100, 'visibility': 10000, 'wind_speed': 1.81, 'wind_deg': 196, 'wind_gust': 3.42, 'weather': [{'id': 804, 'main': 'Clouds', 'description': 'overcast clouds', 'icon': '04d'}], 'pop': 0}, {'dt': 1649844000, 'temp': 303.55, 'feels_like': 305.92, 'pressure': 1010, 'humidity': 56, 'dew_point': 293.89, 'uvi': 0, 'clouds': 100, 'visibility': 10000, 'wind_speed': 2.34, 'wind_deg': 192, 'wind_gust': 3.23, 'weather': [{'id': 804, 'main': 'Clouds', 'description': 'overcast clouds', 'icon': '04d'}], 'pop': 0}, {'dt': 1649847600, 'temp': 304.45, 'feels_like': 306.7, 'pressure': 1009, 'humidity': 52, 'dew_point': 293.68, 'uvi': 0, 'clouds': 100, 'visibility': 10000, 'wind_speed': 2.57, 'wind_deg': 190, 'wind_gust': 3, 'weather': [{'id': 804, 'main': 'Clouds', 'description': 'overcast clouds', 'icon': '04d'}], 'pop': 0}, {'dt': 1649851200, 'temp': 305.9, 'feels_like': 308.15, 'pressure': 1008, 'humidity': 47, 'dew_point': 293.45, 'uvi': 0, 'clouds': 100, 'visibility': 10000, 'wind_speed': 2.69, 'wind_deg': 193, 'wind_gust': 2.81, 'weather': [{'id': 804, 'main': 'Clouds', 'description': 'overcast clouds', 'icon': '04d'}], 'pop': 0}, {'dt': 1649854800, 'temp': 306.49, 'feels_like': 308.71, 'pressure': 1006, 'humidity': 45, 'dew_point': 293.15, 'uvi': 0, 'clouds': 100, 'visibility': 10000, 'wind_speed': 2.77, 'wind_deg': 194, 'wind_gust': 3.27, 'weather': [{'id': 804, 'main': 'Clouds', 'description': 'overcast clouds', 'icon': '04d'}], 'pop': 0.1}, {'dt': 1649858400, 'temp': 305.53, 'feels_like': 307.72, 'pressure': 1006, 'humidity': 48, 'dew_point': 293.25, 'uvi': 0, 'clouds': 99, 'visibility': 10000, 'wind_speed': 2.98, 'wind_deg': 184, 'wind_gust': 3.48, 'weather': [{'id': 804, 'main': 'Clouds', 'description': 'overcast clouds', 'icon': '04d'}], 'pop': 0.14}, {'dt': 1649862000, 'temp': 303.36, 'feels_like': 305.98, 'pressure': 1006, 'humidity': 58, 'dew_point': 294.11, 'uvi': 0, 'clouds': 99, 'visibility': 10000, 'wind_speed': 3.35, 'wind_deg': 179, 'wind_gust': 5.05, 'weather': [{'id': 500, 'main': 'Rain', 'description': 'light rain', 'icon': '10d'}], 'pop': 0.39, 'rain': {'1h': 0.11}}, {'dt': 1649865600, 'temp': 302.8, 'feels_like': 305.33, 'pressure': 1006, 'humidity': 60, 'dew_point': 294.3, 'uvi': 0, 'clouds': 98, 'visibility': 10000, 'wind_speed': 3.43, 'wind_deg': 189, 'wind_gust': 5.85, 'weather': [{'id': 804, 'main': 'Clouds', 'description': 'overcast clouds', 'icon': '04d'}], 'pop': 0.24}, {'dt': 1649869200, 'temp': 301.48, 'feels_like': 303.89, 'pressure': 1006, 'humidity': 66, 'dew_point': 294.74, 'uvi': 0, 'clouds': 97, 'visibility': 10000, 'wind_speed': 3.2, 'wind_deg': 195, 'wind_gust': 6.86, 'weather': [{'id': 500, 'main': 'Rain', 'description': 'light rain', 'icon': '10d'}], 'pop': 0.38, 'rain': {'1h': 0.14}}, {'dt': 1649872800, 'temp': 299.41, 'feels_like': 299.41, 'pressure': 1006, 'humidity': 76, 'dew_point': 294.8, 'uvi': 0, 'clouds': 92, 'visibility': 10000, 'wind_speed': 3.38, 'wind_deg': 193, 'wind_gust': 8.95, 'weather': [{'id': 500, 'main': 'Rain', 'description': 'light rain', 'icon': '10n'}], 'pop': 0.5, 'rain': {'1h': 0.34}}, {'dt': 1649876400, 'temp': 297.99, 'feels_like': 298.7, 'pressure': 1009, 'humidity': 83, 'dew_point': 295.04, 'uvi': 0, 'clouds': 100, 'visibility': 10000, 'wind_speed': 2.19, 'wind_deg': 187, 'wind_gust': 6.73, 'weather': [{'id': 500, 'main': 'Rain', 'description': 'light rain', 'icon': '10n'}], 'pop': 0.52, 'rain': {'1h': 0.56}}, {'dt': 1649880000, 'temp': 297.18, 'feels_like': 297.94, 'pressure': 1009, 'humidity': 88, 'dew_point': 295.1, 'uvi': 0, 'clouds': 81, 'visibility': 10000, 'wind_speed': 2.22, 'wind_deg': 184, 'wind_gust': 7.64, 'weather': [{'id': 803, 'main': 'Clouds', 'description': 'broken clouds', 'icon': '04n'}], 'pop': 0.52}, {'dt': 1649883600, 'temp': 296.71, 'feels_like': 297.5, 'pressure': 1010, 'humidity': 91, 'dew_point': 295.21, 'uvi': 0, 'clouds': 81, 'visibility': 10000, 'wind_speed': 2.17, 'wind_deg': 179, 'wind_gust': 8.16, 'weather': [{'id': 803, 'main': 'Clouds', 'description': 'broken clouds', 'icon': '04n'}], 'pop': 0.52}, {'dt': 1649887200, 'temp': 296.41, 'feels_like': 297.25, 'pressure': 1010, 'humidity': 94, 'dew_point': 295.42, 'uvi': 0, 'clouds': 85, 'visibility': 10000, 'wind_speed': 2.24, 'wind_deg': 188, 'wind_gust': 8.88, 'weather': [{'id': 804, 'main': 'Clouds', 'description': 'overcast clouds', 'icon': '04n'}], 'pop': 0.48}, {'dt': 1649890800, 'temp': 296.21, 'feels_like': 297.08, 'pressure': 1010, 'humidity': 96, 'dew_point': 295.56, 'uvi': 0, 'clouds': 85, 'visibility': 10000, 'wind_speed': 1.76, 'wind_deg': 191, 'wind_gust': 7.97, 'weather': [{'id': 804, 'main': 'Clouds', 'description': 'overcast clouds', 'icon': '04n'}], 'pop': 0.44}, {'dt': 1649894400, 'temp': 296.15, 'feels_like': 297.01, 'pressure': 1010, 'humidity': 96, 'dew_point': 295.61, 'uvi': 0, 'clouds': 84, 'visibility': 10000, 'wind_speed': 1.67, 'wind_deg': 194, 'wind_gust': 7.51, 'weather': [{'id': 803, 'main': 'Clouds', 'description': 'broken clouds', 'icon': '04n'}], 'pop': 0.44}, {'dt': 1649898000, 'temp': 296.04, 'feels_like': 296.92, 'pressure': 1009, 'humidity': 97, 'dew_point': 295.61, 'uvi': 0, 'clouds': 88, 'visibility': 10000, 'wind_speed': 1.08, 'wind_deg': 209, 'wind_gust': 4.85, 'weather': [{'id': 804, 'main': 'Clouds', 'description': 'overcast clouds', 'icon': '04n'}], 'pop': 0}, {'dt': 1649901600, 'temp': 296.08, 'feels_like': 296.96, 'pressure': 1009, 'humidity': 97, 'dew_point': 295.67, 'uvi': 0, 'clouds': 93, 'visibility': 10000, 'wind_speed': 1.01, 'wind_deg': 227, 'wind_gust': 4.9, 'weather': [{'id': 500, 'main': 'Rain', 'description': 'light rain', 'icon': '10n'}], 'pop': 0.2, 'rain': {'1h': 0.1}}, {'dt': 1649905200, 'temp': 296.11, 'feels_like': 296.99, 'pressure': 1009, 'humidity': 97, 'dew_point': 295.75, 'uvi': 0, 'clouds': 95, 'visibility': 10000, 'wind_speed': 1, 'wind_deg': 232, 'wind_gust': 5.22, 'weather': [{'id': 804, 'main': 'Clouds', 'description': 'overcast clouds', 'icon': '04n'}], 'pop': 0}, {'dt': 1649908800, 'temp': 296.08, 'feels_like': 296.96, 'pressure': 1009, 'humidity': 97, 'dew_point': 295.7, 'uvi': 0, 'clouds': 96, 'visibility': 10000, 'wind_speed': 0.68, 'wind_deg': 259, 'wind_gust': 4.38, 'weather': [{'id': 804, 'main': 'Clouds', 'description': 'overcast clouds', 'icon': '04n'}], 'pop': 0}, {'dt': 1649912400, 'temp': 295.98, 'feels_like': 296.85, 'pressure': 1010, 'humidity': 97, 'dew_point': 295.57, 'uvi': 0, 'clouds': 97, 'visibility': 10000, 'wind_speed': 0.56, 'wind_deg': 238, 'wind_gust': 2.08, 'weather': [{'id': 804, 'main': 'Clouds', 'description': 'overcast clouds', 'icon': '04n'}], 'pop': 0}, {'dt': 1649916000, 'temp': 295.84, 'feels_like': 296.72, 'pressure': 1010, 'humidity': 98, 'dew_point': 295.49, 'uvi': 0, 'clouds': 94, 'visibility': 10000, 'wind_speed': 0.86, 'wind_deg': 216, 'wind_gust': 3.13, 'weather': [{'id': 804, 'main': 'Clouds', 'description': 'overcast clouds', 'icon': '04d'}], 'pop': 0}, {'dt': 1649919600, 'temp': 296.92, 'feels_like': 297.75, 'pressure': 1010, 'humidity': 92, 'dew_point': 295.65, 'uvi': 0, 'clouds': 100, 'visibility': 10000, 'wind_speed': 1.59, 'wind_deg': 205, 'wind_gust': 4.88, 'weather': [{'id': 804, 'main': 'Clouds', 'description': 'overcast clouds', 'icon': '04d'}], 'pop': 0.01}, {'dt': 1649923200, 'temp': 298.26, 'feels_like': 299.05, 'pressure': 1011, 'humidity': 85, 'dew_point': 295.67, 'uvi': 0, 'clouds': 100, 'visibility': 10000, 'wind_speed': 1.83, 'wind_deg': 207, 'wind_gust': 4.52, 'weather': [{'id': 804, 'main': 'Clouds', 'description': 'overcast clouds', 'icon': '04d'}], 'pop': 0.01}, {'dt': 1649926800, 'temp': 300.52, 'feels_like': 302.85, 'pressure': 1011, 'humidity': 72, 'dew_point': 295.13, 'uvi': 0, 'clouds': 100, 'visibility': 10000, 'wind_speed': 2.06, 'wind_deg': 213, 'wind_gust': 3.66, 'weather': [{'id': 804, 'main': 'Clouds', 'description': 'overcast clouds', 'icon': '04d'}], 'pop': 0.01}, {'dt': 1649930400, 'temp': 303.63, 'feels_like': 306.07, 'pressure': 1010, 'humidity': 56, 'dew_point': 294.15, 'uvi': 0, 'clouds': 100, 'visibility': 10000, 'wind_speed': 2.33, 'wind_deg': 205, 'wind_gust': 3.52, 'weather': [{'id': 804, 'main': 'Clouds', 'description': 'overcast clouds', 'icon': '04d'}], 'pop': 0}, {'dt': 1649934000, 'temp': 306.29, 'feels_like': 308.61, 'pressure': 1010, 'humidity': 46, 'dew_point': 293.43, 'uvi': 0, 'clouds': 100, 'visibility': 10000, 'wind_speed': 2.1, 'wind_deg': 192, 'wind_gust': 3.06, 'weather': [{'id': 804, 'main': 'Clouds', 'description': 'overcast clouds', 'icon': '04d'}], 'pop': 0.01}, {'dt': 1649937600, 'temp': 305.56, 'feels_like': 308.03, 'pressure': 1008, 'humidity': 49, 'dew_point': 293.59, 'uvi': 0, 'clouds': 99, 'visibility': 10000, 'wind_speed': 2.3, 'wind_deg': 172, 'wind_gust': 3.12, 'weather': [{'id': 500, 'main': 'Rain', 'description': 'light rain', 'icon': '10d'}], 'pop': 0.38, 'rain': {'1h': 0.45}}, {'dt': 1649941200, 'temp': 303.92, 'feels_like': 306.39, 'pressure': 1007, 'humidity': 55, 'dew_point': 293.86, 'uvi': 0, 'clouds': 100, 'visibility': 10000, 'wind_speed': 2.51, 'wind_deg': 156, 'wind_gust': 3.8, 'weather': [{'id': 500, 'main': 'Rain', 'description': 'light rain', 'icon': '10d'}], 'pop': 0.27, 'rain': {'1h': 0.18}}, {'dt': 1649944800, 'temp': 304.32, 'feels_like': 306.69, 'pressure': 1007, 'humidity': 53, 'dew_point': 293.75, 'uvi': 0, 'clouds': 100, 'visibility': 10000, 'wind_speed': 2.26, 'wind_deg': 162, 'wind_gust': 3.61, 'weather': [{'id': 500, 'main': 'Rain', 'description': 'light rain', 'icon': '10d'}], 'pop': 0.21, 'rain': {'1h': 0.13}}, {'dt': 1649948400, 'temp': 306.15, 'feels_like': 308.1, 'pressure': 1006, 'humidity': 45, 'dew_point': 292.94, 'uvi': 0, 'clouds': 92, 'visibility': 10000, 'wind_speed': 1.9, 'wind_deg': 174, 'wind_gust': 2.88, 'weather': [{'id': 804, 'main': 'Clouds', 'description': 'overcast clouds', 'icon': '04d'}], 'pop': 0.21}, {'dt': 1649952000, 'temp': 305.44, 'feels_like': 307.09, 'pressure': 1006, 'humidity': 46, 'dew_point': 292.71, 'uvi': 0, 'clouds': 92, 'visibility': 10000, 'wind_speed': 1.75, 'wind_deg': 191, 'wind_gust': 3.1, 'weather': [{'id': 804, 'main': 'Clouds', 'description': 'overcast clouds', 'icon': '04d'}], 'pop': 0.12}, {'dt': 1649955600, 'temp': 302.53, 'feels_like': 304.51, 'pressure': 1006, 'humidity': 58, 'dew_point': 293.63, 'uvi': 0, 'clouds': 93, 'visibility': 10000, 'wind_speed': 1.86, 'wind_deg': 195, 'wind_gust': 4.96, 'weather': [{'id': 804, 'main': 'Clouds', 'description': 'overcast clouds', 'icon': '04d'}], 'pop': 0.12}, {'dt': 1649959200, 'temp': 300.82, 'feels_like': 302.53, 'pressure': 1007, 'humidity': 64, 'dew_point': 293.68, 'uvi': 0, 'clouds': 91, 'visibility': 10000, 'wind_speed': 2.36, 'wind_deg': 195, 'wind_gust': 7.48, 'weather': [{'id': 804, 'main': 'Clouds', 'description': 'overcast clouds', 'icon': '04n'}], 'pop': 0.08}, {'dt': 1649962800, 'temp': 299.65, 'feels_like': 299.65, 'pressure': 1008, 'humidity': 71, 'dew_point': 293.94, 'uvi': 0, 'clouds': 70, 'visibility': 10000, 'wind_speed': 2.91, 'wind_deg': 204, 'wind_gust': 8.31, 'weather': [{'id': 803, 'main': 'Clouds', 'description': 'broken clouds', 'icon': '04n'}], 'pop': 0.04}, {'dt': 1649966400, 'temp': 297.51, 'feels_like': 298.17, 'pressure': 1009, 'humidity': 83, 'dew_point': 294.43, 'uvi': 0, 'clouds': 52, 'visibility': 10000, 'wind_speed': 2.1, 'wind_deg': 204, 'wind_gust': 6.71, 'weather': [{'id': 500, 'main': 'Rain', 'description': 'light rain', 'icon': '10n'}], 'pop': 0.28, 'rain': {'1h': 0.18}}], 'daily': [{'dt': 1649761200, 'sunrise': 1649741662, 'sunset': 1649785818, 'moonrise': 1649773620, 'moonset': 1649730120, 'moon_phase': 0.35, 'temp': {'day': 307.34, 'min': 296.26, 'max': 307.34, 'night': 296.27, 'eve': 299.73, 'morn': 296.7}, 'feels_like': {'day': 310.33, 'night': 297.07, 'eve': 299.73, 'morn': 297.67}, 'pressure': 1009, 'humidity': 45, 'dew_point': 293.93, 'wind_speed': 2.95, 'wind_deg': 157, 'wind_gust': 8.05, 'weather': [{'id': 501, 'main': 'Rain', 'description': 'moderate rain', 'icon': '10d'}], 'clouds': 86, 'pop': 0.89, 'rain': 2.65, 'uvi': 0}, {'dt': 1649847600, 'sunrise': 1649828035, 'sunset': 1649872214, 'moonrise': 1649862960, 'moonset': 1649819160, 'moon_phase': 0.38, 'temp': {'day': 304.45, 'min': 295.85, 'max': 306.49, 'night': 296.41, 'eve': 301.48, 'morn': 296}, 'feels_like': {'day': 306.7, 'night': 297.25, 'eve': 303.89, 'morn': 296.85}, 'pressure': 1009, 'humidity': 52, 'dew_point': 293.68, 'wind_speed': 3.43, 'wind_deg': 189, 'wind_gust': 8.95, 'weather': [{'id': 500, 'main': 'Rain', 'description': 'light rain', 'icon': '10d'}], 'clouds': 100, 'pop': 0.85, 'rain': 1.15, 'uvi': 0}, {'dt': 1649934000, 'sunrise': 1649914408, 'sunset': 1649958611, 'moonrise': 1649952360, 'moonset': 1649908080, 'moon_phase': 0.42, 'temp': {'day': 306.29, 'min': 295.84, 'max': 306.29, 'night': 295.91, 'eve': 302.53, 'morn': 295.98}, 'feels_like': {'day': 308.61, 'night': 296.7, 'eve': 304.51, 'morn': 296.85}, 'pressure': 1010, 'humidity': 46, 'dew_point': 293.43, 'wind_speed': 2.91, 'wind_deg': 204, 'wind_gust': 8.31, 'weather': [{'id': 500, 'main': 'Rain', 'description': 'light rain', 'icon': '10d'}], 'clouds': 100, 'pop': 0.44, 'rain': 1.24, 'uvi': 0}, {'dt': 1650020400, 'sunrise': 1650000781, 'sunset': 1650045008, 'moonrise': 1650041700, 'moonset': 1649997060, 'moon_phase': 0.45, 'temp': {'day': 307.82, 'min': 295.19, 'max': 309.73, 'night': 295.64, 'eve': 297.69, 'morn': 295.42}, 'feels_like': {'day': 310.66, 'night': 296.48, 'eve': 298.47, 'morn': 296.26}, 'pressure': 1011, 'humidity': 43, 'dew_point': 293.49, 'wind_speed': 3.07, 'wind_deg': 214, 'wind_gust': 9.66, 'weather': [{'id': 500, 'main': 'Rain', 'description': 'light rain', 'icon': '10d'}], 'clouds': 80, 'pop': 0.88, 'rain': 2.46, 'uvi': 0}, {'dt': 1650106800, 'sunrise': 1650087155, 'sunset': 1650131406, 'moonrise': 1650131220, 'moonset': 1650086100, 'moon_phase': 0.5, 'temp': {'day': 307.47, 'min': 295.32, 'max': 307.47, 'night': 296.37, 'eve': 300.12, 'morn': 295.53}, 'feels_like': {'day': 310.28, 'night': 297.25, 'eve': 302.12, 'morn': 296.36}, 'pressure': 1009, 'humidity': 44, 'dew_point': 293.72, 'wind_speed': 3.32, 'wind_deg': 184, 'wind_gust': 6.08, 'weather': [{'id': 501, 'main': 'Rain', 'description': 'moderate rain', 'icon': '10d'}], 'clouds': 76, 'pop': 0.98, 'rain': 11.72, 'uvi': 0}, {'dt': 1650193200, 'sunrise': 1650173530, 'sunset': 1650217804, 'moonrise': 1650220920, 'moonset': 1650175260, 'moon_phase': 0.52, 'temp': {'day': 302.66, 'min': 296.04, 'max': 302.66, 'night': 296.61, 'eve': 297.71, 'morn': 296.04}, 'feels_like': {'day': 306.6, 'night': 297.44, 'eve': 298.55, 'morn': 296.97}, 'pressure': 1010, 'humidity': 68, 'dew_point': 296.26, 'wind_speed': 1.9, 'wind_deg': 268, 'wind_gust': 3.9, 'weather': [{'id': 501, 'main': 'Rain', 'description': 'moderate rain', 'icon': '10d'}], 'clouds': 93, 'pop': 0.97, 'rain': 7.27, 'uvi': 0}, {'dt': 1650279600, 'sunrise': 1650259905, 'sunset': 1650304202, 'moonrise': 1650310800, 'moonset': 1650264600, 'moon_phase': 0.56, 'temp': {'day': 305.55, 'min': 295.3, 'max': 305.55, 'night': 296.1, 'eve': 298.49, 'morn': 295.3}, 'feels_like': {'day': 309.07, 'night': 296.98, 'eve': 299.25, 'morn': 296.13}, 'pressure': 1010, 'humidity': 53, 'dew_point': 294.86, 'wind_speed': 3.08, 'wind_deg': 140, 'wind_gust': 8.02, 'weather': [{'id': 501, 'main': 'Rain', 'description': 'moderate rain', 'icon': '10d'}], 'clouds': 100, 'pop': 0.87, 'rain': 21.83, 'uvi': 0}, {'dt': 1650366000, 'sunrise': 1650346280, 'sunset': 1650390601, 'moonrise': 1650400860, 'moonset': 1650354240, 'moon_phase': 0.6, 'temp': {'day': 302.75, 'min': 295.09, 'max': 302.75, 'night': 296.97, 'eve': 298.44, 'morn': 295.26}, 'feels_like': {'day': 305.61, 'night': 297.68, 'eve': 299.11, 'morn': 296.06}, 'pressure': 1011, 'humidity': 62, 'dew_point': 294.59, 'wind_speed': 1.32, 'wind_deg': 159, 'wind_gust': 6.02, 'weather': [{'id': 500, 'main': 'Rain', 'description': 'light rain', 'icon': '10d'}], 'clouds': 100, 'pop': 0.89, 'rain': 0.86, 'uvi': 0}]}\n",
            "[]\n",
            "[34.19, 31.3, 33.14, 34.67, 34.32, 29.51, 32.4, 29.6]\n",
            "[23.12, 23.26, 22.76, 22.49, 23.22, 23.46, 22.95, 23.82]\n",
            "['Rain: moderate rain', 'Rain: light rain', 'Rain: light rain', 'Rain: light rain', 'Rain: moderate rain', 'Rain: moderate rain', 'Rain: moderate rain', 'Rain: light rain']\n"
          ]
        }
      ]
    },
    {
      "cell_type": "code",
      "source": [
        "string = f'[ {name} - 8 days forecast]\\n'\n",
        "\n",
        "#Let's now loop for as much days as there available (8 in this case):\n",
        "for i in range(len(days)):\n",
        "    \n",
        "    #We want to print out the day (day1,2,3,4..)\n",
        "    #Also, day 1 = today and day 2 = tomorrow for reference\n",
        "    \n",
        "    if i == 0:\n",
        "        string += f'\\nDay {i+1} (Today)\\n'\n",
        "        \n",
        "    elif i == 1:\n",
        "        string += f'\\nDay {i+1} (Tomorrow)\\n'\n",
        "        \n",
        "    else:\n",
        "        string += f'\\nDay {i+1}\\n'\n",
        "        \n",
        "    string += 'Morning:' + str(days[i]) + '°C' + \"\\n\"\n",
        "    string += 'Night:' + str(nights[i]) + '°C' + \"\\n\"\n",
        "    string += 'Conditions:' + descr[i] + '\\n'\n",
        "    \n",
        "print(string)"
      ],
      "metadata": {
        "colab": {
          "base_uri": "https://localhost:8080/"
        },
        "id": "75HL-0t-Joq2",
        "outputId": "ba7a3c72-b55f-456b-a245-26df91a353e2"
      },
      "execution_count": 6,
      "outputs": [
        {
          "output_type": "stream",
          "name": "stdout",
          "text": [
            "[ Ile-Ife - 8 days forecast]\n",
            "\n",
            "Day 1 (Today)\n",
            "Morning:34.19°C\n",
            "Night:23.12°C\n",
            "Conditions:Rain: moderate rain\n",
            "\n",
            "Day 2 (Tomorrow)\n",
            "Morning:31.3°C\n",
            "Night:23.26°C\n",
            "Conditions:Rain: light rain\n",
            "\n",
            "Day 3\n",
            "Morning:33.14°C\n",
            "Night:22.76°C\n",
            "Conditions:Rain: light rain\n",
            "\n",
            "Day 4\n",
            "Morning:34.67°C\n",
            "Night:22.49°C\n",
            "Conditions:Rain: light rain\n",
            "\n",
            "Day 5\n",
            "Morning:34.32°C\n",
            "Night:23.22°C\n",
            "Conditions:Rain: moderate rain\n",
            "\n",
            "Day 6\n",
            "Morning:29.51°C\n",
            "Night:23.46°C\n",
            "Conditions:Rain: moderate rain\n",
            "\n",
            "Day 7\n",
            "Morning:32.4°C\n",
            "Night:22.95°C\n",
            "Conditions:Rain: moderate rain\n",
            "\n",
            "Day 8\n",
            "Morning:29.6°C\n",
            "Night:23.82°C\n",
            "Conditions:Rain: light rain\n",
            "\n"
          ]
        }
      ]
    }
  ]
}